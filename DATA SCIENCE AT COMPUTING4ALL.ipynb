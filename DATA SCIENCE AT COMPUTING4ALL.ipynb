{
 "cells": [
  {
   "cell_type": "markdown",
   "id": "301c163d",
   "metadata": {},
   "source": [
    "# Python code to compute similarity between two rows"
   ]
  },
  {
   "cell_type": "code",
   "execution_count": 12,
   "id": "c558da1b",
   "metadata": {},
   "outputs": [
    {
     "name": "stdout",
     "output_type": "stream",
     "text": [
      "Jaccard similarity between rows  0 and 3 is\n",
      "0.6956521739130435\n",
      "Cosine similarity between rows  0 and 3 is\n",
      "0.9545807293526762\n",
      "Tanimoto similarity between rows  0 and 3 is\n",
      "0.9051094890510949\n"
     ]
    }
   ],
   "source": [
    "import numpy as np\n",
    "\n",
    "def jaccard (vec1, vec2):\n",
    "    minimum=[]\n",
    "    for i in range(0, len(vec1)):\n",
    "        minimum.append(min(vec1[i], vec2[i]))\n",
    "\n",
    "    maximums=[]\n",
    "    for i in range(0, len(vec1)):\n",
    "        maximums.append(max(vec1[i], vec2[i]))\n",
    "\n",
    "    j=sum(minimum)/sum(maximums)\n",
    "\n",
    "    return j\n",
    "\n",
    "def cosinesim(vec1, vec2):\n",
    "    numerator = np.dot(vec1,vec2)\n",
    "    v1norm= np.sqrt(sum(vec1**2))\n",
    "    v2norm= np.sqrt(sum(vec2**2))\n",
    "    c = numerator/(v1norm*v2norm) \n",
    "    return c\n",
    "\n",
    "def tanimotosim(vec1, vec2):\n",
    "    numerator = np.dot(vec1,vec2)\n",
    "    v1norm= (sum(vec1**2))\n",
    "    v2norm= (sum(vec2**2))\n",
    "    t = numerator/(v1norm+v2norm-numerator) \n",
    "    return t\n",
    "\n",
    "rawdata = [[10, 3, 3, 5],\n",
    "[12, 13, 20, 7],\n",
    "[1, 1, 2, 7],\n",
    "[8, 1, 2, 7],\n",
    "[2, 1, 2, 7], \n",
    "[10, 3, 3, 5]]\n",
    "\n",
    "data = np.array(rawdata)\n",
    "\n",
    "r1=0\n",
    "r2=3\n",
    "\n",
    "jacc = jaccard(data[r1], data[r2])\n",
    "print(\"Jaccard similarity between rows \",\\\n",
    "r1, \"and\",r2,\"is\")\n",
    "\n",
    "print(jacc)\n",
    "\n",
    "cos = cosinesim(data[r1], data[r2])\n",
    "print(\"Cosine similarity between rows \", \\\n",
    "r1, \"and\",r2,\"is\")\n",
    "print(cos)\n",
    "\n",
    "tanimoto = tanimotosim(data[r1], data[r2])\n",
    "print(\"Tanimoto similarity between rows \", \\\n",
    "r1, \"and\",r2,\"is\")\n",
    "print(tanimoto)\n"
   ]
  },
  {
   "cell_type": "code",
   "execution_count": 13,
   "id": "55180bc4",
   "metadata": {},
   "outputs": [
    {
     "name": "stdout",
     "output_type": "stream",
     "text": [
      "Current Working Directory: C:\\Users\\mumok\n"
     ]
    }
   ],
   "source": [
    "import os\n",
    "\n",
    "current_directory = os.getcwd()\n",
    "print(\"Current Working Directory:\", current_directory)\n"
   ]
  },
  {
   "cell_type": "code",
   "execution_count": null,
   "id": "cf67ece4",
   "metadata": {},
   "outputs": [],
   "source": []
  }
 ],
 "metadata": {
  "kernelspec": {
   "display_name": "Python 3 (ipykernel)",
   "language": "python",
   "name": "python3"
  },
  "language_info": {
   "codemirror_mode": {
    "name": "ipython",
    "version": 3
   },
   "file_extension": ".py",
   "mimetype": "text/x-python",
   "name": "python",
   "nbconvert_exporter": "python",
   "pygments_lexer": "ipython3",
   "version": "3.9.13"
  }
 },
 "nbformat": 4,
 "nbformat_minor": 5
}
